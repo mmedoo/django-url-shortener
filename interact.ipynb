{
 "cells": [
  {
   "cell_type": "code",
   "execution_count": null,
   "metadata": {},
   "outputs": [],
   "source": [
    "# This Jupyter Notebook is to interact with the SQLite3 file using built-in django ORM.\n",
    "# It's helpful in these cases:\n",
    "\t# 1. You don't want to use the terminal.\n",
    "\t# 2. You don't have SQLite installed in your local environment.\n",
    "\t# 3. You want to simulate an ORM process from the app.\n",
    "\n",
    "# More information about this Notebook:\n",
    "# https://github.com/mmedoo/django-in-jupyter"
   ]
  },
  {
   "cell_type": "code",
   "execution_count": null,
   "metadata": {},
   "outputs": [],
   "source": [
    "# This block is important to run the django ORM in jupyter\n",
    "# Do NOT touch if you don't want to encounter errors.\n",
    "# It took me a while to figure it out.\n",
    "# https://docs.djangoproject.com/en/4.1/topics/async/#async-safety\n",
    "\n",
    "import os\n",
    "import django\n",
    "\n",
    "PROJECTPATH = None\n",
    "if PROJECTPATH:\n",
    "\tsys.path.insert(0, PROJECTPATH)\n",
    "\tos.chdir(PROJECTPATH)\n",
    "\n",
    "os.environ.setdefault('DJANGO_SETTINGS_MODULE', 'app.settings')\n",
    "os.environ[\"DJANGO_ALLOW_ASYNC_UNSAFE\"] = \"true\"\n",
    "\n",
    "django.setup()"
   ]
  },
  {
   "cell_type": "code",
   "execution_count": null,
   "metadata": {},
   "outputs": [],
   "source": []
  }
 ],
 "metadata": {
  "kernelspec": {
   "display_name": "Python 3",
   "language": "python",
   "name": "python3"
  },
  "language_info": {
   "codemirror_mode": {
    "name": "ipython",
    "version": 3
   },
   "file_extension": ".py",
   "mimetype": "text/x-python",
   "name": "python",
   "nbconvert_exporter": "python",
   "pygments_lexer": "ipython3",
   "version": "3.12.3"
  }
 },
 "nbformat": 4,
 "nbformat_minor": 2
}
